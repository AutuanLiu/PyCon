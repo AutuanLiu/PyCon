{
 "cells": [
  {
   "cell_type": "markdown",
   "metadata": {},
   "source": [
    "# 函数 "
   ]
  },
  {
   "cell_type": "code",
   "execution_count": 1,
   "metadata": {
    "ExecuteTime": {
     "end_time": "2018-02-02T05:28:07.092151Z",
     "start_time": "2018-02-02T05:28:06.906700Z"
    }
   },
   "outputs": [],
   "source": [
    "%matplotlib inline\n",
    "# 多行结果输出支持\n",
    "from IPython.core.interactiveshell import InteractiveShell\n",
    "InteractiveShell.ast_node_interactivity = \"all\""
   ]
  },
  {
   "cell_type": "markdown",
   "metadata": {},
   "source": [
    "## 可接受任意数量参数的函数\n",
    "* 为了能让一个函数接受任意数量的位置参数，可以使用一个*参数\n",
    "* 为了接受任意数量的关键字参数，使用一个以 `**`开头的参数\n",
    "* 这个和Packing和unpacking的用法是相同的，关键字参数一般是可以表示成字典的unpacking的\n",
    "* `*arg1, **arg2`就可以表示所有的参数形式\n",
    "* 一个\\*参数只能出现在函数定义中最后一个位置参数后面，而 \\*\\*参数只能出现在最后一个参数。 有一点要注意的是，在\\*参数后面仍然可以定义其他参数"
   ]
  },
  {
   "cell_type": "code",
   "execution_count": 2,
   "metadata": {
    "ExecuteTime": {
     "end_time": "2018-02-02T05:28:07.099463Z",
     "start_time": "2018-02-02T05:28:07.093314Z"
    }
   },
   "outputs": [
    {
     "data": {
      "text/plain": [
       "1.5"
      ]
     },
     "execution_count": 2,
     "metadata": {},
     "output_type": "execute_result"
    },
    {
     "data": {
      "text/plain": [
       "2.5"
      ]
     },
     "execution_count": 2,
     "metadata": {},
     "output_type": "execute_result"
    }
   ],
   "source": [
    "# 可变参数 packing and unpacking\n",
    "def avg(first, *rest):\n",
    "    return (first + sum(rest)) / (1 + len(rest))\n",
    "\n",
    "# Sample use\n",
    "avg(1, 2) # 1.5\n",
    "avg(1, 2, 3, 4) # 2.5"
   ]
  },
  {
   "cell_type": "code",
   "execution_count": 3,
   "metadata": {
    "ExecuteTime": {
     "end_time": "2018-02-02T05:28:07.211617Z",
     "start_time": "2018-02-02T05:28:07.100570Z"
    }
   },
   "outputs": [],
   "source": [
    "# 如果你还希望某个函数能同时接受任意数量的位置参数和关键字参数，可以同时使用*和**\n",
    "# 使用这个函数时，所有位置参数会被放到args元组中，所有关键字参数会被放到字典kwargs中\n",
    "def anyargs(*args, **kwargs):\n",
    "    print(args) # A tuple\n",
    "    print(kwargs) # A dict"
   ]
  },
  {
   "cell_type": "code",
   "execution_count": 4,
   "metadata": {
    "ExecuteTime": {
     "end_time": "2018-02-02T05:28:07.279623Z",
     "start_time": "2018-02-02T05:28:07.212690Z"
    }
   },
   "outputs": [
    {
     "name": "stdout",
     "output_type": "stream",
     "text": [
      "(1, 2, 4)\n",
      "{'q': 2, 'a': 3}\n"
     ]
    }
   ],
   "source": [
    "arg1 = 1, 2, 4\n",
    "arg2 = {'q': 2, 'a': 3}\n",
    "anyargs(*arg1, **arg2)"
   ]
  },
  {
   "cell_type": "markdown",
   "metadata": {},
   "source": [
    "```python\n",
    "def a(x, *args, y):\n",
    "    pass\n",
    "\n",
    "def b(x, *args, y, **kwargs):\n",
    "    pass\n",
    "```"
   ]
  },
  {
   "cell_type": "markdown",
   "metadata": {},
   "source": [
    "## 只接受关键字参数的函数\n",
    "* 将强制关键字参数放到某个\\*参数或者单个\\*后面就能达到这种效果\n",
    "* 使用强制关键字参数会比使用位置参数表意更加清晰，程序也更加具有可读性\n",
    "* 使用强制关键字参数也会比使用`**`kwargs参数更好，因为在使用函数help的时候输出也会更容易理解"
   ]
  },
  {
   "cell_type": "code",
   "execution_count": 5,
   "metadata": {
    "ExecuteTime": {
     "end_time": "2018-02-02T05:28:07.382794Z",
     "start_time": "2018-02-02T05:28:07.281007Z"
    }
   },
   "outputs": [
    {
     "ename": "TypeError",
     "evalue": "recv() takes 1 positional argument but 2 were given",
     "output_type": "error",
     "traceback": [
      "\u001b[0;31m---------------------------------------------------------------------------\u001b[0m",
      "\u001b[0;31mTypeError\u001b[0m                                 Traceback (most recent call last)",
      "\u001b[0;32m<ipython-input-5-1317f310dbec>\u001b[0m in \u001b[0;36m<module>\u001b[0;34m()\u001b[0m\n\u001b[1;32m      3\u001b[0m     \u001b[0mprint\u001b[0m\u001b[0;34m(\u001b[0m\u001b[0mmaxsize\u001b[0m\u001b[0;34m)\u001b[0m\u001b[0;34m\u001b[0m\u001b[0m\n\u001b[1;32m      4\u001b[0m \u001b[0;34m\u001b[0m\u001b[0m\n\u001b[0;32m----> 5\u001b[0;31m \u001b[0mrecv\u001b[0m\u001b[0;34m(\u001b[0m\u001b[0;36m1024\u001b[0m\u001b[0;34m,\u001b[0m \u001b[0;32mTrue\u001b[0m\u001b[0;34m)\u001b[0m \u001b[0;31m# TypeError\u001b[0m\u001b[0;34m\u001b[0m\u001b[0m\n\u001b[0m",
      "\u001b[0;31mTypeError\u001b[0m: recv() takes 1 positional argument but 2 were given"
     ]
    }
   ],
   "source": [
    "def recv(maxsize, *, block):\n",
    "    'Receives a message'\n",
    "    print(maxsize)\n",
    "\n",
    "recv(1024, True) # TypeError"
   ]
  },
  {
   "cell_type": "code",
   "execution_count": 6,
   "metadata": {
    "ExecuteTime": {
     "end_time": "2018-02-02T05:28:25.440031Z",
     "start_time": "2018-02-02T05:28:25.436626Z"
    }
   },
   "outputs": [
    {
     "name": "stdout",
     "output_type": "stream",
     "text": [
      "1024\n"
     ]
    }
   ],
   "source": [
    "recv(1024, block=True) # Ok"
   ]
  },
  {
   "cell_type": "code",
   "execution_count": 7,
   "metadata": {
    "ExecuteTime": {
     "end_time": "2018-02-02T05:28:29.309024Z",
     "start_time": "2018-02-02T05:28:29.302072Z"
    }
   },
   "outputs": [
    {
     "data": {
      "text/plain": [
       "-5"
      ]
     },
     "execution_count": 7,
     "metadata": {},
     "output_type": "execute_result"
    },
    {
     "data": {
      "text/plain": [
       "0"
      ]
     },
     "execution_count": 7,
     "metadata": {},
     "output_type": "execute_result"
    }
   ],
   "source": [
    "# 参数的默认值是None的意思是可以没有\n",
    "def minimum(*values, clip=None):\n",
    "    m = min(values)\n",
    "    if clip is not None:\n",
    "        m = clip if clip > m else m\n",
    "    return m\n",
    "\n",
    "minimum(1, 5, 2, -5, 10) # Returns -5\n",
    "minimum(1, 5, 2, -5, 10, clip=0) # Returns 0"
   ]
  },
  {
   "cell_type": "markdown",
   "metadata": {},
   "source": [
    "## 给函数参数增加元信息\n",
    "* 使用函数参数注解是一个很好的办法，它能提示程序员应该怎样正确使用这个函数\n",
    "* [PEP 3107 -- Function Annotations | Python.org](https://www.python.org/dev/peps/pep-3107/)\n",
    "* [Python 函数注释 - CSDN博客](http://blog.csdn.net/liang19890820/article/details/74264380)\n",
    "* python解释器不会对这些注解添加任何的语义。它们不会被类型检查，运行时跟没有加注解之前的效果也没有任何差距。 然而，对于那些阅读源码的人来讲就很有帮助啦。第三方工具和框架可能会对这些注解添加语义。同时它们也会出现在文档中\n",
    "* 函数注解只存储在函数的 `__annotations__ `属性中 `func.__annotations__`\n",
    "* 尽管注解的使用方法可能有很多种，但是它们的主要用途还是文档。 因为python并没有类型声明，通常来讲仅仅通过阅读源码很难知道应该传递什么样的参数给这个函数。 这时候使用注解就能给程序员更多的提示，让他们可以正确的使用函数"
   ]
  },
  {
   "cell_type": "code",
   "execution_count": 8,
   "metadata": {
    "ExecuteTime": {
     "end_time": "2018-02-02T05:28:31.047784Z",
     "start_time": "2018-02-02T05:28:31.044767Z"
    }
   },
   "outputs": [],
   "source": [
    "def add(x:int, y:int) -> int:\n",
    "    return x + y"
   ]
  },
  {
   "cell_type": "markdown",
   "metadata": {},
   "source": [
    "## 默认参数\n",
    "* 定义一个有可选参数的函数是非常简单的，直接在函数定义中给参数指定一个默认值，并放到参数列表最后就行了\n",
    "* 如果默认参数是一个可修改的容器比如一个**列表、集合或者字典，可以使用None作为默认值**\n",
    "* 默认参数的值仅仅在函数定义的时候赋值一次\n",
    "* 默认参数的值应该是不可变的对象，比如None、True、False、数字或字符串"
   ]
  },
  {
   "cell_type": "code",
   "execution_count": 9,
   "metadata": {
    "ExecuteTime": {
     "end_time": "2018-02-02T05:28:32.400810Z",
     "start_time": "2018-02-02T05:28:32.397910Z"
    }
   },
   "outputs": [],
   "source": [
    "# Using a list as a default value\n",
    "# 可变的默认参数使用 None 作为默认值\n",
    "def spam(a, b=None):\n",
    "    # 这里使用 is\n",
    "    if b is None:\n",
    "        b = []\n",
    "    pass"
   ]
  },
  {
   "cell_type": "markdown",
   "metadata": {},
   "source": [
    "## 定义匿名或内联函数\n",
    "* 当一些函数很简单，仅仅只是计算一个表达式的值的时候，就可以使用lambda表达式来代替了\n",
    "* lambda表达式典型的使用场景是排序或数据reduce等："
   ]
  },
  {
   "cell_type": "code",
   "execution_count": 13,
   "metadata": {
    "ExecuteTime": {
     "end_time": "2018-02-02T05:30:28.362735Z",
     "start_time": "2018-02-02T05:30:28.360773Z"
    }
   },
   "outputs": [],
   "source": [
    "y = lambda x, y: x ** y"
   ]
  },
  {
   "cell_type": "code",
   "execution_count": 14,
   "metadata": {
    "ExecuteTime": {
     "end_time": "2018-02-02T05:30:28.995077Z",
     "start_time": "2018-02-02T05:30:28.992286Z"
    }
   },
   "outputs": [
    {
     "data": {
      "text/plain": [
       "8"
      ]
     },
     "execution_count": 14,
     "metadata": {},
     "output_type": "execute_result"
    }
   ],
   "source": [
    "y(2, 3)"
   ]
  },
  {
   "cell_type": "code",
   "execution_count": 15,
   "metadata": {
    "ExecuteTime": {
     "end_time": "2018-02-02T05:30:49.452568Z",
     "start_time": "2018-02-02T05:30:49.449225Z"
    }
   },
   "outputs": [
    {
     "data": {
      "text/plain": [
       "['Ned Batchelder', 'David Beazley', 'Raymond Hettinger', 'Brian Jones']"
      ]
     },
     "execution_count": 15,
     "metadata": {},
     "output_type": "execute_result"
    }
   ],
   "source": [
    "names = ['David Beazley', 'Brian Jones',\n",
    "         'Raymond Hettinger', 'Ned Batchelder']\n",
    "sorted(names, key=lambda name: name.split()[-1].lower())"
   ]
  },
  {
   "cell_type": "code",
   "execution_count": 20,
   "metadata": {
    "ExecuteTime": {
     "end_time": "2018-02-02T05:32:23.406810Z",
     "start_time": "2018-02-02T05:32:23.404108Z"
    }
   },
   "outputs": [
    {
     "data": {
      "text/plain": [
       "'beazley'"
      ]
     },
     "execution_count": 20,
     "metadata": {},
     "output_type": "execute_result"
    }
   ],
   "source": [
    "'David Beazley'.split()[-1].lower()"
   ]
  },
  {
   "cell_type": "code",
   "execution_count": 22,
   "metadata": {
    "ExecuteTime": {
     "end_time": "2018-02-02T05:34:04.636820Z",
     "start_time": "2018-02-02T05:34:04.632394Z"
    }
   },
   "outputs": [],
   "source": [
    "x = 10\n",
    "a = lambda y: x + y\n",
    "x = 20\n",
    "b = lambda y: x + y"
   ]
  },
  {
   "cell_type": "code",
   "execution_count": 23,
   "metadata": {
    "ExecuteTime": {
     "end_time": "2018-02-02T05:34:28.532294Z",
     "start_time": "2018-02-02T05:34:28.529535Z"
    }
   },
   "outputs": [
    {
     "data": {
      "text/plain": [
       "30"
      ]
     },
     "execution_count": 23,
     "metadata": {},
     "output_type": "execute_result"
    }
   ],
   "source": [
    "a(10)"
   ]
  },
  {
   "cell_type": "code",
   "execution_count": 24,
   "metadata": {
    "ExecuteTime": {
     "end_time": "2018-02-02T05:34:43.086839Z",
     "start_time": "2018-02-02T05:34:43.083888Z"
    }
   },
   "outputs": [
    {
     "data": {
      "text/plain": [
       "30"
      ]
     },
     "execution_count": 24,
     "metadata": {},
     "output_type": "execute_result"
    }
   ],
   "source": [
    "b(10)"
   ]
  },
  {
   "cell_type": "markdown",
   "metadata": {},
   "source": [
    "* 这其中的奥妙在于lambda表达式中的x是一个自由变量， 在运行时绑定值，而不是定义时就绑定，这跟函数的默认值参数定义是不同的\n",
    "* lambda 表达式的参数是在运行时绑定的，而函数定义的参数是在定义的时候才绑定的，两者是存在这不同的\n",
    "* 如果你想让某个匿名函数在定义时就捕获到值，可以将那个参数值定义成默认参数即可"
   ]
  },
  {
   "cell_type": "code",
   "execution_count": 26,
   "metadata": {
    "ExecuteTime": {
     "end_time": "2018-02-02T05:37:57.945273Z",
     "start_time": "2018-02-02T05:37:57.942146Z"
    }
   },
   "outputs": [],
   "source": [
    "x = 10\n",
    "a = lambda y, x=x: x + y\n",
    "x = 20\n",
    "b = lambda y, x=x: x + y"
   ]
  },
  {
   "cell_type": "code",
   "execution_count": 27,
   "metadata": {
    "ExecuteTime": {
     "end_time": "2018-02-02T05:38:01.379673Z",
     "start_time": "2018-02-02T05:38:01.376621Z"
    }
   },
   "outputs": [
    {
     "data": {
      "text/plain": [
       "20"
      ]
     },
     "execution_count": 27,
     "metadata": {},
     "output_type": "execute_result"
    }
   ],
   "source": [
    "a(10)"
   ]
  },
  {
   "cell_type": "code",
   "execution_count": 28,
   "metadata": {
    "ExecuteTime": {
     "end_time": "2018-02-02T05:38:04.439856Z",
     "start_time": "2018-02-02T05:38:04.434911Z"
    }
   },
   "outputs": [
    {
     "data": {
      "text/plain": [
       "30"
      ]
     },
     "execution_count": 28,
     "metadata": {},
     "output_type": "execute_result"
    }
   ],
   "source": [
    "b(10)"
   ]
  },
  {
   "cell_type": "markdown",
   "metadata": {},
   "source": [
    "**通过使用函数默认值参数形式，lambda函数在定义时就能绑定到值**"
   ]
  },
  {
   "cell_type": "markdown",
   "metadata": {},
   "source": [
    "## 减少可调用对象的参数个数\n",
    "* 如果需要减少某个函数的参数个数，你可以使用 functools.partial() 。 partial() 函数允许你给一个或多个参数设置固定的值，减少接下来被调用时的参数个数\n",
    "* partial() 通常被用来微调其他库函数所使用的回调函数的参数"
   ]
  },
  {
   "cell_type": "code",
   "execution_count": 29,
   "metadata": {
    "ExecuteTime": {
     "end_time": "2018-02-02T06:02:36.802053Z",
     "start_time": "2018-02-02T06:02:36.798165Z"
    }
   },
   "outputs": [],
   "source": [
    "def spam(a, b, c, d):\n",
    "    print(a, b, c, d)"
   ]
  },
  {
   "cell_type": "code",
   "execution_count": 30,
   "metadata": {
    "ExecuteTime": {
     "end_time": "2018-02-02T06:03:16.966164Z",
     "start_time": "2018-02-02T06:03:16.963806Z"
    }
   },
   "outputs": [],
   "source": [
    "from functools import partial\n",
    "s2 = partial(spam, d=3)"
   ]
  },
  {
   "cell_type": "code",
   "execution_count": 31,
   "metadata": {
    "ExecuteTime": {
     "end_time": "2018-02-02T06:03:23.100708Z",
     "start_time": "2018-02-02T06:03:23.096271Z"
    }
   },
   "outputs": [
    {
     "name": "stdout",
     "output_type": "stream",
     "text": [
      "1 2 3 3\n"
     ]
    }
   ],
   "source": [
    "s2(1, 2, 3)"
   ]
  },
  {
   "cell_type": "code",
   "execution_count": null,
   "metadata": {},
   "outputs": [],
   "source": []
  }
 ],
 "metadata": {
  "kernelspec": {
   "display_name": "Python 3",
   "language": "python",
   "name": "python3"
  },
  "language_info": {
   "codemirror_mode": {
    "name": "ipython",
    "version": 3
   },
   "file_extension": ".py",
   "mimetype": "text/x-python",
   "name": "python",
   "nbconvert_exporter": "python",
   "pygments_lexer": "ipython3",
   "version": "3.6.3"
  },
  "nbTranslate": {
   "displayLangs": [
    "*"
   ],
   "hotkey": "alt-t",
   "langInMainMenu": true,
   "sourceLang": "en",
   "targetLang": "fr",
   "useGoogleTranslate": true
  },
  "varInspector": {
   "cols": {
    "lenName": 16,
    "lenType": 16,
    "lenVar": 40
   },
   "kernels_config": {
    "python": {
     "delete_cmd_postfix": "",
     "delete_cmd_prefix": "del ",
     "library": "var_list.py",
     "varRefreshCmd": "print(var_dic_list())"
    },
    "r": {
     "delete_cmd_postfix": ") ",
     "delete_cmd_prefix": "rm(",
     "library": "var_list.r",
     "varRefreshCmd": "cat(var_dic_list()) "
    }
   },
   "types_to_exclude": [
    "module",
    "function",
    "builtin_function_or_method",
    "instance",
    "_Feature"
   ],
   "window_display": false
  }
 },
 "nbformat": 4,
 "nbformat_minor": 2
}
